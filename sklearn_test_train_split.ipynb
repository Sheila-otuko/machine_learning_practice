{
  "nbformat": 4,
  "nbformat_minor": 0,
  "metadata": {
    "colab": {
      "provenance": [],
      "authorship_tag": "ABX9TyM88ytkt++5kOuc8W66zdqd",
      "include_colab_link": true
    },
    "kernelspec": {
      "name": "python3",
      "display_name": "Python 3"
    },
    "language_info": {
      "name": "python"
    }
  },
  "cells": [
    {
      "cell_type": "markdown",
      "metadata": {
        "id": "view-in-github",
        "colab_type": "text"
      },
      "source": [
        "<a href=\"https://colab.research.google.com/github/Sheila-otuko/machine_learning_practice/blob/main/sklearn_test_train_split.ipynb\" target=\"_parent\"><img src=\"https://colab.research.google.com/assets/colab-badge.svg\" alt=\"Open In Colab\"/></a>"
      ]
    },
    {
      "cell_type": "code",
      "execution_count": 31,
      "metadata": {
        "id": "jedFqVacW2hi"
      },
      "outputs": [],
      "source": [
        "import numpy as np\n",
        "from sklearn.model_selection import train_test_split"
      ]
    },
    {
      "cell_type": "code",
      "source": [
        "a = np.arange(1,101)\n",
        "a"
      ],
      "metadata": {
        "colab": {
          "base_uri": "https://localhost:8080/"
        },
        "id": "H1VVp6g7XUi-",
        "outputId": "9cd6473e-98b7-4dd2-f66a-463ea37b6901"
      },
      "execution_count": 32,
      "outputs": [
        {
          "output_type": "execute_result",
          "data": {
            "text/plain": [
              "array([  1,   2,   3,   4,   5,   6,   7,   8,   9,  10,  11,  12,  13,\n",
              "        14,  15,  16,  17,  18,  19,  20,  21,  22,  23,  24,  25,  26,\n",
              "        27,  28,  29,  30,  31,  32,  33,  34,  35,  36,  37,  38,  39,\n",
              "        40,  41,  42,  43,  44,  45,  46,  47,  48,  49,  50,  51,  52,\n",
              "        53,  54,  55,  56,  57,  58,  59,  60,  61,  62,  63,  64,  65,\n",
              "        66,  67,  68,  69,  70,  71,  72,  73,  74,  75,  76,  77,  78,\n",
              "        79,  80,  81,  82,  83,  84,  85,  86,  87,  88,  89,  90,  91,\n",
              "        92,  93,  94,  95,  96,  97,  98,  99, 100])"
            ]
          },
          "metadata": {},
          "execution_count": 32
        }
      ]
    },
    {
      "cell_type": "code",
      "source": [
        "b = np.arange(501,601)\n",
        "b"
      ],
      "metadata": {
        "colab": {
          "base_uri": "https://localhost:8080/"
        },
        "id": "CGVHY9BfYWfU",
        "outputId": "2d2ba2c6-8fd7-446a-eab1-3a372decdd8c"
      },
      "execution_count": 33,
      "outputs": [
        {
          "output_type": "execute_result",
          "data": {
            "text/plain": [
              "array([501, 502, 503, 504, 505, 506, 507, 508, 509, 510, 511, 512, 513,\n",
              "       514, 515, 516, 517, 518, 519, 520, 521, 522, 523, 524, 525, 526,\n",
              "       527, 528, 529, 530, 531, 532, 533, 534, 535, 536, 537, 538, 539,\n",
              "       540, 541, 542, 543, 544, 545, 546, 547, 548, 549, 550, 551, 552,\n",
              "       553, 554, 555, 556, 557, 558, 559, 560, 561, 562, 563, 564, 565,\n",
              "       566, 567, 568, 569, 570, 571, 572, 573, 574, 575, 576, 577, 578,\n",
              "       579, 580, 581, 582, 583, 584, 585, 586, 587, 588, 589, 590, 591,\n",
              "       592, 593, 594, 595, 596, 597, 598, 599, 600])"
            ]
          },
          "metadata": {},
          "execution_count": 33
        }
      ]
    },
    {
      "cell_type": "markdown",
      "source": [
        "split the data"
      ],
      "metadata": {
        "id": "iKZxfCIeYoPD"
      }
    },
    {
      "cell_type": "code",
      "source": [
        "train_test_split(a)"
      ],
      "metadata": {
        "colab": {
          "base_uri": "https://localhost:8080/"
        },
        "id": "qS9-Jc9pYktw",
        "outputId": "16ce0f79-84fc-4575-a79c-f1b97c129ea0"
      },
      "execution_count": 34,
      "outputs": [
        {
          "output_type": "execute_result",
          "data": {
            "text/plain": [
              "[array([ 62,   4,  63, 100,  47,  35,  37,  91,  87,  51,  79,  31,  41,\n",
              "         14,  36,  28,  81,  21,  69,  72,  26,  19,  33,  32,  29,  99,\n",
              "         49,  92,   9,   8,  98,  78,  40,  10,  60,  44,  34,  68,  39,\n",
              "         85,  20,  55,  80,  67,  15,  70,  45,  71,  57,  90,  25,  52,\n",
              "         96,  65,  54,  97,  53,  86,  46,  48,  22,  42,  66,  18,  58,\n",
              "         30,  61,  27,  82,  59,  16,  56,  88,  50,  13]),\n",
              " array([83, 94, 84,  3,  1,  2, 17, 74, 77, 93, 12, 38,  7, 89,  6, 75, 23,\n",
              "        24, 73,  5, 76, 95, 11, 43, 64])]"
            ]
          },
          "metadata": {},
          "execution_count": 34
        }
      ]
    },
    {
      "cell_type": "code",
      "source": [
        "a_train, a_test, b_train, b_test = train_test_split(a, b,test_size = 0.2, random_state=42 )#shuffle=False)\n",
        "#test_size gives us an 80/20 split default is 75/25\n",
        "#shuffle is set by default to true. setting it to false leaves the data unshuffled. useful in time series modelling\n",
        "#random_state prevents the code creating a new shuffle everytime you run the code. if you want a different random set change the number."
      ],
      "metadata": {
        "id": "g-_D-QnQYuHC"
      },
      "execution_count": 35,
      "outputs": []
    },
    {
      "cell_type": "code",
      "source": [
        "train_test_split(a)"
      ],
      "metadata": {
        "colab": {
          "base_uri": "https://localhost:8080/"
        },
        "id": "_r28QEYPY3M5",
        "outputId": "42f6a530-b195-4f45-f7cd-577d346ac598"
      },
      "execution_count": 36,
      "outputs": [
        {
          "output_type": "execute_result",
          "data": {
            "text/plain": [
              "[array([ 93,  62,  59,  28,  21,   9,  85,  64,  11,  47,  45,  57,  25,\n",
              "         37,  63,  49,  48,  80,  77,  68,  16,  31,  69,  90,  71,  27,\n",
              "         99,  92,  40,  52,  89,  22,   1,  75,  51,   4,  78,  24,  81,\n",
              "         87,  61,  79,  83,  72,  66,   3,  94,  15,  65,  84,  38,  96,\n",
              "         20,  88,  30,  36,   2,  42,  56, 100,  70,  54,  39,   8,  95,\n",
              "         73,  44,  50,  97,  23,  29,  60,  12,   7,  46]),\n",
              " array([19, 41, 58, 82,  5, 74, 34, 53, 26, 91,  6, 18, 14, 86, 67, 43, 35,\n",
              "        33, 32, 98, 17, 76, 55, 10, 13])]"
            ]
          },
          "metadata": {},
          "execution_count": 36
        }
      ]
    },
    {
      "cell_type": "code",
      "source": [
        "a_train.shape, a_test.shape"
      ],
      "metadata": {
        "colab": {
          "base_uri": "https://localhost:8080/"
        },
        "id": "YrmMzDWfZB7B",
        "outputId": "98803b09-31f4-4207-e222-1eadee7ac435"
      },
      "execution_count": 37,
      "outputs": [
        {
          "output_type": "execute_result",
          "data": {
            "text/plain": [
              "((80,), (20,))"
            ]
          },
          "metadata": {},
          "execution_count": 37
        }
      ]
    },
    {
      "cell_type": "code",
      "source": [
        "a_train"
      ],
      "metadata": {
        "colab": {
          "base_uri": "https://localhost:8080/"
        },
        "id": "Z-WQJrpnZNbJ",
        "outputId": "dcc2ebb7-0326-46f0-8ead-fa92484ff9cf"
      },
      "execution_count": 38,
      "outputs": [
        {
          "output_type": "execute_result",
          "data": {
            "text/plain": [
              "array([ 56,  89,  27,  43,  70,  16,  41,  97,  10,  73,  12,  48,  86,\n",
              "        29,  94,   6,  67,  66,  36,  17,  50,  35,   8,  96,  28,  20,\n",
              "        82,  26,  63,  14,  25,   4,  18,  39,   9,  79,   7,  65,  37,\n",
              "        90,  57, 100,  55,  44,  51,  68,  47,  69,  62,  98,  80,  42,\n",
              "        59,  49,  99,  58,  76,  33,  95,  60,  64,  85,  38,  30,   2,\n",
              "        53,  22,   3,  24,  88,  92,  75,  87,  83,  21,  61,  72,  15,\n",
              "        93,  52])"
            ]
          },
          "metadata": {},
          "execution_count": 38
        }
      ]
    },
    {
      "cell_type": "code",
      "source": [
        "a_test"
      ],
      "metadata": {
        "colab": {
          "base_uri": "https://localhost:8080/"
        },
        "id": "5ku_36bRZQ0j",
        "outputId": "425c7c21-9825-4ece-9c16-0ee804d06922"
      },
      "execution_count": 39,
      "outputs": [
        {
          "output_type": "execute_result",
          "data": {
            "text/plain": [
              "array([84, 54, 71, 46, 45, 40, 23, 81, 11,  1, 19, 31, 74, 34, 91,  5, 77,\n",
              "       78, 13, 32])"
            ]
          },
          "metadata": {},
          "execution_count": 39
        }
      ]
    },
    {
      "cell_type": "code",
      "source": [
        "b_train.shape, b_test.shape"
      ],
      "metadata": {
        "colab": {
          "base_uri": "https://localhost:8080/"
        },
        "id": "BG3OSaETZSKa",
        "outputId": "dcb552ce-dc6b-449f-cb0e-8e6ccb02c738"
      },
      "execution_count": 30,
      "outputs": [
        {
          "output_type": "execute_result",
          "data": {
            "text/plain": [
              "((80,), (20,))"
            ]
          },
          "metadata": {},
          "execution_count": 30
        }
      ]
    },
    {
      "cell_type": "code",
      "source": [
        "b_train"
      ],
      "metadata": {
        "colab": {
          "base_uri": "https://localhost:8080/"
        },
        "id": "r7D-Y83dcnh5",
        "outputId": "79ad0ae8-e174-4e99-c05e-0bceb04eb312"
      },
      "execution_count": 40,
      "outputs": [
        {
          "output_type": "execute_result",
          "data": {
            "text/plain": [
              "array([556, 589, 527, 543, 570, 516, 541, 597, 510, 573, 512, 548, 586,\n",
              "       529, 594, 506, 567, 566, 536, 517, 550, 535, 508, 596, 528, 520,\n",
              "       582, 526, 563, 514, 525, 504, 518, 539, 509, 579, 507, 565, 537,\n",
              "       590, 557, 600, 555, 544, 551, 568, 547, 569, 562, 598, 580, 542,\n",
              "       559, 549, 599, 558, 576, 533, 595, 560, 564, 585, 538, 530, 502,\n",
              "       553, 522, 503, 524, 588, 592, 575, 587, 583, 521, 561, 572, 515,\n",
              "       593, 552])"
            ]
          },
          "metadata": {},
          "execution_count": 40
        }
      ]
    },
    {
      "cell_type": "code",
      "source": [
        "b_test"
      ],
      "metadata": {
        "colab": {
          "base_uri": "https://localhost:8080/"
        },
        "id": "pLPji8FpdtlT",
        "outputId": "950e7d79-af1e-4025-c78c-ca6acd521d0c"
      },
      "execution_count": 41,
      "outputs": [
        {
          "output_type": "execute_result",
          "data": {
            "text/plain": [
              "array([584, 554, 571, 546, 545, 540, 523, 581, 511, 501, 519, 531, 574,\n",
              "       534, 591, 505, 577, 578, 513, 532])"
            ]
          },
          "metadata": {},
          "execution_count": 41
        }
      ]
    },
    {
      "cell_type": "code",
      "source": [],
      "metadata": {
        "id": "kLG_nwCcduzW"
      },
      "execution_count": null,
      "outputs": []
    }
  ]
}